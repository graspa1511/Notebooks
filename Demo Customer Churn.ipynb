{
 "metadata": {
  "name": "",
  "signature": "sha256:eff78600be2bb92d11373261e046f3f5e581d0dfe544cdc18e79f213e08424bd"
 },
 "nbformat": 3,
 "nbformat_minor": 0,
 "worksheets": [
  {
   "cells": [
    {
     "cell_type": "code",
     "collapsed": false,
     "input": [
      "import pandas as pd #Liber\u00eda para el uso de estructuras de datos r\u00e1pidas y flexibles.\n",
      "import numpy as np #Paquete fundamental en Python Cient\u00ecfico\n",
      "from IPython.display import Image\n",
      "#SKLEARN\n",
      "from sklearn.preprocessing import StandardScaler\n",
      "from sklearn.ensemble import RandomForestClassifier\n",
      "from sklearn.metrics import classification_report\n",
      "from sklearn.metrics import accuracy_score\n",
      "\n",
      "#Graficos\n",
      "import matplotlib.pyplot as plt\n",
      "import matplotlib.pylab as pylab\n",
      "pylab.rcParams['figure.figsize'] = 12, 8  # that's default image size for this interactive session"
     ],
     "language": "python",
     "metadata": {},
     "outputs": [],
     "prompt_number": 4
    },
    {
     "cell_type": "heading",
     "level": 1,
     "metadata": {},
     "source": [
      "Un ejemplo concreto: Customer Churn"
     ]
    },
    {
     "cell_type": "heading",
     "level": 2,
     "metadata": {},
     "source": [
      "1. Business Understanding"
     ]
    },
    {
     "cell_type": "markdown",
     "metadata": {},
     "source": [
      "Una compan\u00eda de telef\u00f3nica se enfrenta una problem\u00e1tica desde hace un largo tiempo: mes a mes, aumenta la cantidad de clientes que deciden irse a la competencia. Las campa\u00f1as de retenci\u00f3n que realizan no resultan efectivas ya que, al momento de realizarse, el cliente ya tiene la decisi\u00f3n tomada de dejar el servicio"
     ]
    },
    {
     "cell_type": "markdown",
     "metadata": {},
     "source": [
      "Ellos quieren buscar alguna forma de detectar los clientes que est\u00e1n pr\u00f3ximos a irse, para tomar decisiones proactivas para retenerlos en su compa\u00f1\u00eda"
     ]
    },
    {
     "cell_type": "heading",
     "level": 6,
     "metadata": {},
     "source": [
      "Este tipo de problemas, entra en un caso de uso conocido de Data Science como es Customer Churn: Es un t\u00e9rmino empresarial que hace referencia a la migraci\u00f3n, rotaci\u00f3n o cancelaci\u00f3n de clientes."
     ]
    },
    {
     "cell_type": "code",
     "collapsed": false,
     "input": [
      "cv_url = 'http://www.retentionscience.com/assets/cache_image/assets/content/images/articles/uploads/2014/09/customerchurn_775x425_612.png'\n",
      "Image(url=cv_url)"
     ],
     "language": "python",
     "metadata": {},
     "outputs": [
      {
       "html": [
        "<img src=\"http://www.retentionscience.com/assets/cache_image/assets/content/images/articles/uploads/2014/09/customerchurn_775x425_612.png\"/>"
       ],
       "metadata": {},
       "output_type": "pyout",
       "prompt_number": 6,
       "text": [
        "<IPython.core.display.Image at 0x734b518>"
       ]
      }
     ],
     "prompt_number": 6
    },
    {
     "cell_type": "heading",
     "level": 3,
     "metadata": {},
     "source": [
      "Customer Churn no es Churn Rate"
     ]
    },
    {
     "cell_type": "markdown",
     "metadata": {},
     "source": [
      "- El churn rate o tasa de cancelaci\u00f3n de clientes es un indicador que mide el n\u00famero de clientes o suscriptores que se han perdido, ya sea porque han dejado de seguir a la empresa o porque han abandonado la suscripci\u00f3n a un producto o servicio de la misma.\n",
      "- Para obtener esta tasa de abandono, basta con una f\u00f3rmula muy sencilla: N\u00ba de Clientes que abandonaron / N\u00ba de Clientes que hab\u00eda al inicio del periodo. Por ejemplo, si a final del mes se perdieron 5 clientes y hab\u00eda 100 al inicio, hablar\u00edamos de un 5% de churn rate."
     ]
    },
    {
     "cell_type": "markdown",
     "metadata": {},
     "source": [
      "- Customer Churn, como caso de uso de Data Science, busca poner en evidencia a los clientes que est\u00e1n pr\u00f3ximos a abandonar la compa\u00f1\u00eda, para estar a tiempo de tomar estrategias proactivas con ellos, y as\u00ed lograr su retenci\u00f3n, lo que directamente disminuye el Churn Rate"
     ]
    },
    {
     "cell_type": "heading",
     "level": 2,
     "metadata": {},
     "source": [
      "2. Data Understanding"
     ]
    },
    {
     "cell_type": "markdown",
     "metadata": {},
     "source": [
      "La compa\u00f1\u00eda nos brinda una base de datos hist\u00f3rica de sus clientes, donde contiene informaci\u00f3n referida a cada uno de ellos, y una etiqueta que afirma si ese cliente abandon\u00f3 o no la firma"
     ]
    },
    {
     "cell_type": "markdown",
     "metadata": {},
     "source": [
      "Detalle del Dataset: Base de datos m\u00e1s de 2800 registros de clientes y 21 columnas de datos\n",
      "- Features\n",
      "    - State: Estado de la Cuenta\n",
      "    - Account Length: Antiguedad de la Cuenta (en meses)\n",
      "    - Area Code: c\u00f3digo de \u00e1rea\n",
      "    - Phone: N\u00b0 de tel\u00e9fono\n",
      "    - Int'l Plan: Existencia de Plan Internacional (SI/NO)\n",
      "    - VMail Plan: Existencia de Correo de Mensajes (SI/NO)\n",
      "    - VMail Message: Cantidad de mensajes de correo\n",
      "    - Day Mins: Cantidad de Minutos Diarios del Plan Horario Dia\n",
      "    - Day Calls: Cantidad de llamadas Diarias del Plan Horario Dia\n",
      "    - Day Charge: Costo de llamada Horario Dia\n",
      "    - Eve Mins: Cantidad de Minutos Diarios del Plan Horario Tarde\n",
      "    - Eve Calls: Cantidad de llamadas Diarias del Plan Horario Tarde\n",
      "    - Eve Charge: Costo de llamada Horario Tarde    \n",
      "    - Night Mins: Cantidad de Minutos Diarios del Plan Horario Noche\n",
      "    - Night Calls: Cantidad de llamadas Diarias del Plan Horario Noche\n",
      "    - Night Charge: Costo de llamada Horario Noche  \n",
      "    - Intl Mins: Cantidad de Minutos Internacionales del Plan\n",
      "    - Intl Calls: Cantidad de llamadas Internacionales del Plan\n",
      "    - Intl Charge: Costo de llamadas Internacionales\n",
      "    - CustServ Calls: Cantidad de llamadas de Servicio\n",
      "- Labels\n",
      "    - Churn?: Abandono del Cliente (SI/NO)"
     ]
    },
    {
     "cell_type": "heading",
     "level": 6,
     "metadata": {},
     "source": [
      "Varias Fuentes de Datos"
     ]
    },
    {
     "cell_type": "markdown",
     "metadata": {},
     "source": [
      "Algo que enriquece a toda solucion de Data Science, es la posibilidad de combinar varias fuentes de datos. Por ej, en este caso podemos combinar este dataset con:\n",
      "- Opiniones que los usuarios hayan hecho en redes sociales como Facebook o Twitter (An\u00e1lisis de Sentimientos)\n",
      "- Datos de la cuenta: tipo de plan, celular, paquete y consumo de datos (MB)\n",
      "- Datos del CRM: no s\u00f3lo la cantidad de llamadas a servicio, sino el agente que atendi\u00f3, el tipo de problema por el que llam\u00f3, la fecha, etc\n",
      "- Datos Demogr\u00e1ficos: Ciudad, Provincia, Edad, Sexo, etc\n",
      "- Datos de Facturaci\u00f3n: Estado de facturaci\u00f3n, facturas impagas, morosidad, Tarifa, etc\n",
      " \n",
      "Para simplificar el presente an\u00e1lisis, s\u00f3lo se analizar\u00e1 el conjunto de datos mostrando anteriormente"
     ]
    },
    {
     "cell_type": "heading",
     "level": 3,
     "metadata": {},
     "source": [
      "Obtenci\u00f3n de Datos"
     ]
    },
    {
     "cell_type": "code",
     "collapsed": false,
     "input": [
      "cv_url = 'http://pandas.pydata.org/_static/pandas_logo.png'\n",
      "Image(url=cv_url)"
     ],
     "language": "python",
     "metadata": {},
     "outputs": [
      {
       "html": [
        "<img src=\"http://pandas.pydata.org/_static/pandas_logo.png\"/>"
       ],
       "metadata": {},
       "output_type": "pyout",
       "prompt_number": 7,
       "text": [
        "<IPython.core.display.Image at 0x734b400>"
       ]
      }
     ],
     "prompt_number": 7
    },
    {
     "cell_type": "code",
     "collapsed": false,
     "input": [
      "import pandas as pd #Liber\u00eda para el uso de estructuras de datos r\u00e1pidas y flexibles.\n",
      "df = pd.read_csv('./Data/data_train.csv')\n",
      "df.head()"
     ],
     "language": "python",
     "metadata": {},
     "outputs": [
      {
       "html": [
        "<div style=\"max-width:1500px;overflow:auto;\">\n",
        "<table border=\"1\" class=\"dataframe\">\n",
        "  <thead>\n",
        "    <tr style=\"text-align: right;\">\n",
        "      <th></th>\n",
        "      <th>State</th>\n",
        "      <th>Account Length</th>\n",
        "      <th>Area Code</th>\n",
        "      <th>Phone</th>\n",
        "      <th>Int'l Plan</th>\n",
        "      <th>VMail Plan</th>\n",
        "      <th>VMail Message</th>\n",
        "      <th>Day Mins</th>\n",
        "      <th>Day Calls</th>\n",
        "      <th>Day Charge</th>\n",
        "      <th>...</th>\n",
        "      <th>Eve Calls</th>\n",
        "      <th>Eve Charge</th>\n",
        "      <th>Night Mins</th>\n",
        "      <th>Night Calls</th>\n",
        "      <th>Night Charge</th>\n",
        "      <th>Intl Mins</th>\n",
        "      <th>Intl Calls</th>\n",
        "      <th>Intl Charge</th>\n",
        "      <th>CustServ Calls</th>\n",
        "      <th>Churn?</th>\n",
        "    </tr>\n",
        "  </thead>\n",
        "  <tbody>\n",
        "    <tr>\n",
        "      <th>0</th>\n",
        "      <td>KS</td>\n",
        "      <td>128</td>\n",
        "      <td>415</td>\n",
        "      <td>382-4657</td>\n",
        "      <td>no</td>\n",
        "      <td>yes</td>\n",
        "      <td>25</td>\n",
        "      <td>265.1</td>\n",
        "      <td>110</td>\n",
        "      <td>45.07</td>\n",
        "      <td>...</td>\n",
        "      <td>99</td>\n",
        "      <td>16.78</td>\n",
        "      <td>244.7</td>\n",
        "      <td>91</td>\n",
        "      <td>11.01</td>\n",
        "      <td>10.0</td>\n",
        "      <td>3</td>\n",
        "      <td>2.70</td>\n",
        "      <td>1</td>\n",
        "      <td>False.</td>\n",
        "    </tr>\n",
        "    <tr>\n",
        "      <th>1</th>\n",
        "      <td>OH</td>\n",
        "      <td>107</td>\n",
        "      <td>415</td>\n",
        "      <td>371-7191</td>\n",
        "      <td>no</td>\n",
        "      <td>yes</td>\n",
        "      <td>26</td>\n",
        "      <td>161.6</td>\n",
        "      <td>123</td>\n",
        "      <td>27.47</td>\n",
        "      <td>...</td>\n",
        "      <td>103</td>\n",
        "      <td>16.62</td>\n",
        "      <td>254.4</td>\n",
        "      <td>103</td>\n",
        "      <td>11.45</td>\n",
        "      <td>13.7</td>\n",
        "      <td>3</td>\n",
        "      <td>3.70</td>\n",
        "      <td>1</td>\n",
        "      <td>False.</td>\n",
        "    </tr>\n",
        "    <tr>\n",
        "      <th>2</th>\n",
        "      <td>NJ</td>\n",
        "      <td>137</td>\n",
        "      <td>415</td>\n",
        "      <td>358-1921</td>\n",
        "      <td>no</td>\n",
        "      <td>no</td>\n",
        "      <td>0</td>\n",
        "      <td>243.4</td>\n",
        "      <td>114</td>\n",
        "      <td>41.38</td>\n",
        "      <td>...</td>\n",
        "      <td>110</td>\n",
        "      <td>10.30</td>\n",
        "      <td>162.6</td>\n",
        "      <td>104</td>\n",
        "      <td>7.32</td>\n",
        "      <td>12.2</td>\n",
        "      <td>5</td>\n",
        "      <td>3.29</td>\n",
        "      <td>0</td>\n",
        "      <td>False.</td>\n",
        "    </tr>\n",
        "    <tr>\n",
        "      <th>3</th>\n",
        "      <td>OH</td>\n",
        "      <td>84</td>\n",
        "      <td>408</td>\n",
        "      <td>375-9999</td>\n",
        "      <td>yes</td>\n",
        "      <td>no</td>\n",
        "      <td>0</td>\n",
        "      <td>299.4</td>\n",
        "      <td>71</td>\n",
        "      <td>50.90</td>\n",
        "      <td>...</td>\n",
        "      <td>88</td>\n",
        "      <td>5.26</td>\n",
        "      <td>196.9</td>\n",
        "      <td>89</td>\n",
        "      <td>8.86</td>\n",
        "      <td>6.6</td>\n",
        "      <td>7</td>\n",
        "      <td>1.78</td>\n",
        "      <td>2</td>\n",
        "      <td>False.</td>\n",
        "    </tr>\n",
        "    <tr>\n",
        "      <th>4</th>\n",
        "      <td>OK</td>\n",
        "      <td>75</td>\n",
        "      <td>415</td>\n",
        "      <td>330-6626</td>\n",
        "      <td>yes</td>\n",
        "      <td>no</td>\n",
        "      <td>0</td>\n",
        "      <td>166.7</td>\n",
        "      <td>113</td>\n",
        "      <td>28.34</td>\n",
        "      <td>...</td>\n",
        "      <td>122</td>\n",
        "      <td>12.61</td>\n",
        "      <td>186.9</td>\n",
        "      <td>121</td>\n",
        "      <td>8.41</td>\n",
        "      <td>10.1</td>\n",
        "      <td>3</td>\n",
        "      <td>2.73</td>\n",
        "      <td>3</td>\n",
        "      <td>False.</td>\n",
        "    </tr>\n",
        "  </tbody>\n",
        "</table>\n",
        "<p>5 rows \u00d7 21 columns</p>\n",
        "</div>"
       ],
       "metadata": {},
       "output_type": "pyout",
       "prompt_number": 8,
       "text": [
        "  State  Account Length  Area Code     Phone Int'l Plan VMail Plan  \\\n",
        "0    KS             128        415  382-4657         no        yes   \n",
        "1    OH             107        415  371-7191         no        yes   \n",
        "2    NJ             137        415  358-1921         no         no   \n",
        "3    OH              84        408  375-9999        yes         no   \n",
        "4    OK              75        415  330-6626        yes         no   \n",
        "\n",
        "   VMail Message  Day Mins  Day Calls  Day Charge   ...    Eve Calls  \\\n",
        "0             25     265.1        110       45.07   ...           99   \n",
        "1             26     161.6        123       27.47   ...          103   \n",
        "2              0     243.4        114       41.38   ...          110   \n",
        "3              0     299.4         71       50.90   ...           88   \n",
        "4              0     166.7        113       28.34   ...          122   \n",
        "\n",
        "   Eve Charge  Night Mins  Night Calls  Night Charge  Intl Mins  Intl Calls  \\\n",
        "0       16.78       244.7           91         11.01       10.0           3   \n",
        "1       16.62       254.4          103         11.45       13.7           3   \n",
        "2       10.30       162.6          104          7.32       12.2           5   \n",
        "3        5.26       196.9           89          8.86        6.6           7   \n",
        "4       12.61       186.9          121          8.41       10.1           3   \n",
        "\n",
        "   Intl Charge  CustServ Calls  Churn?  \n",
        "0         2.70               1  False.  \n",
        "1         3.70               1  False.  \n",
        "2         3.29               0  False.  \n",
        "3         1.78               2  False.  \n",
        "4         2.73               3  False.  \n",
        "\n",
        "[5 rows x 21 columns]"
       ]
      }
     ],
     "prompt_number": 8
    },
    {
     "cell_type": "heading",
     "level": 2,
     "metadata": {},
     "source": [
      "3. Data Preparation"
     ]
    },
    {
     "cell_type": "markdown",
     "metadata": {},
     "source": [
      "El objetivo de esta etapa es disponer a los datos en un formato tal que pueda ser procesado por un algoritmo de Machine Learning"
     ]
    },
    {
     "cell_type": "markdown",
     "metadata": {},
     "source": [
      "Estos algoritmos, no son m\u00e1s que complejas f\u00f3rmulas matem\u00e1ticas, que reciben datos de entrada, aplican sus c\u00e1lculos, y devuelven los datos iniciales junto a la predicci\u00f3n realizada"
     ]
    },
    {
     "cell_type": "code",
     "collapsed": false,
     "input": [
      "cv_url = 'https://realvalidation.com/wp-content/uploads/2014/03/data-quality.gif'\n",
      "Image(url=cv_url)"
     ],
     "language": "python",
     "metadata": {},
     "outputs": [
      {
       "html": [
        "<img src=\"https://realvalidation.com/wp-content/uploads/2014/03/data-quality.gif\"/>"
       ],
       "metadata": {},
       "output_type": "pyout",
       "prompt_number": 14,
       "text": [
        "<IPython.core.display.Image at 0x96ca9e8>"
       ]
      }
     ],
     "prompt_number": 14
    },
    {
     "cell_type": "markdown",
     "metadata": {},
     "source": [
      "La automatizaci\u00f3n es clave en esta etapa, ya que es una de las tareas que m\u00e1s tiempo consume en un proyecto de Data Science"
     ]
    },
    {
     "cell_type": "markdown",
     "metadata": {},
     "source": [
      "- Al ser modelos matem\u00e1ticos, procesan mejor aquellas variables num\u00e9ricas o booleanas (True/False)\n",
      "- La normalizaci\u00f3n de las variables num\u00e9ricas es importante para llevar todo el conjunto de datos a una unidad comparable y unificada para el algoritmo a utilizar.\n",
      "- Manejo de Texto: existen ciertas t\u00e9cnicas en el Procesamiento de Lenguaje Natural (NLP) que permiten llevar texto a n\u00fameros y as\u00ed ser capaz de procesarlo en un algoritmo\n",
      "- Estrategias para valores nulos: \n",
      "- Suprimir valores at\u00edpicos\n",
      "- Clases desbalanceadas: incapacidad de los algoritmos para hacer inferencias sobre las clases minoritarias. Existen estrategias para considerar\n",
      "    - Downsampling\n",
      "    - Upsampling"
     ]
    },
    {
     "cell_type": "heading",
     "level": 6,
     "metadata": {},
     "source": [
      "Limpieza de Columnas"
     ]
    },
    {
     "cell_type": "code",
     "collapsed": false,
     "input": [
      "df.columns = [item.replace(\" \", \"\") for item in df.columns]\n",
      "df.columns = [item.replace(\"'\", \"\") for item in df.columns]\n",
      "df.columns = [item.replace(\"?\", \"\") for item in df.columns]\n",
      "df.Churn = df.Churn == 'True.'\n",
      "df.IntlPlan = df.IntlPlan == 'yes'\n",
      "df.VMailPlan = df.VMailPlan == 'yes'"
     ],
     "language": "python",
     "metadata": {},
     "outputs": [],
     "prompt_number": 15
    },
    {
     "cell_type": "markdown",
     "metadata": {},
     "source": [
      "Se eliminan espacios en las columnas, se borran caracteres especiales (', ?), y las columnas Churn, IntlPlan, VMailPlan se pasan de Texto a Booleanas"
     ]
    },
    {
     "cell_type": "heading",
     "level": 6,
     "metadata": {},
     "source": [
      "Selecci\u00f3n de Variables para el Algoritmo y Normalizaci\u00f3n de Columnas"
     ]
    },
    {
     "cell_type": "code",
     "collapsed": false,
     "input": [
      "import numpy as np #Paquete fundamental en Python Cient\u00ecfico\n",
      "from sklearn.preprocessing import StandardScaler\n",
      "def pre_process_data(df):\n",
      "    \"\"\"This methods pre process the data so it can be used in a Scikit Learn estimator.\n",
      "    It returns two values: X (numpy array) and y (numpy array). \"\"\"\n",
      "\n",
      "    df_processed = pd.DataFrame()\n",
      "    \n",
      "    df_processed['AccountLength'] = df.AccountLength\n",
      "    df_processed['IntlPlan'] = df.IntlPlan\n",
      "    df_processed['VMailPlan'] = df.VMailPlan\n",
      "    df_processed['VMailMessage'] = df.VMailMessage\n",
      "    df_processed['DayMins'] = df.DayMins\n",
      "    df_processed['DayCalls'] = df.DayCalls\n",
      "    df_processed['DayCharge'] = df.DayCharge\n",
      "    df_processed['EveMins'] = df.EveMins\n",
      "    df_processed['EveCalls'] = df.EveCalls\n",
      "    df_processed['EveCharge'] = df.EveCharge\n",
      "    df_processed['NightMins'] = df.NightMins\n",
      "    df_processed['NightCalls'] = df.NightCalls    \n",
      "    df_processed['NightCharge'] = df.NightCharge\n",
      "    df_processed['IntlMins'] = df.IntlMins\n",
      "    df_processed['IntlCalls'] = df.IntlCalls\n",
      "    df_processed['IntlCharge'] = df.IntlCharge\n",
      "    df_processed['CustServCalls'] = df.CustServCalls\n",
      "    columns = df_processed.columns.values\n",
      "    \n",
      "    scaler = StandardScaler()\n",
      "    df_processed = scaler.fit_transform(df_processed)\n",
      "\n",
      "    return df_processed, np.array(df['Churn']), columns\n"
     ],
     "language": "python",
     "metadata": {},
     "outputs": [],
     "prompt_number": 17
    },
    {
     "cell_type": "code",
     "collapsed": false,
     "input": [
      "X, y, columns = pre_process_data(df)"
     ],
     "language": "python",
     "metadata": {},
     "outputs": [
      {
       "output_type": "stream",
       "stream": "stderr",
       "text": [
        "C:\\Users\\Rodrigo\\Anaconda3\\lib\\site-packages\\sklearn\\utils\\validation.py:332: UserWarning: StandardScaler assumes floating point values as input, got object\n",
        "  \"got %s\" % (estimator, X.dtype))\n"
       ]
      }
     ],
     "prompt_number": 18
    },
    {
     "cell_type": "heading",
     "level": 2,
     "metadata": {},
     "source": [
      "4. Modelado"
     ]
    },
    {
     "cell_type": "markdown",
     "metadata": {},
     "source": [
      "Objetivo: construccion de un modelo de Machine Learning para la detecci\u00f3n de clientes pr\u00f3ximos a abandonar la compa\u00f1\u00eda\n",
      "- Seleccionar el modelo adecuado\n",
      "- Entrenar el algoritmo con los datos existentes\n",
      "- Predecir situaciones futuras a partir de nuevos datos"
     ]
    },
    {
     "cell_type": "heading",
     "level": 6,
     "metadata": {},
     "source": [
      "M\u00e1quinas de Aprendizaje Autom\u00e1tico --> \"ense\u00f1ar\" al modelo sobre las caracter\u00edsticas del conjunto de datos -> Fase de Entrenamiento"
     ]
    },
    {
     "cell_type": "heading",
     "level": 3,
     "metadata": {},
     "source": [
      "T\u00e9cnica: Train/Test Split"
     ]
    },
    {
     "cell_type": "markdown",
     "metadata": {},
     "source": [
      "- Dividir el conjunto de datos en un conjunto de entrenamiento (training data) y un conjunto de validaci\u00f3n (test data). Ej: 70-30, 80-20, 90-10\n",
      "- Entrenar el modelo (fit) sobre el conjunto de entrenamiento\n",
      "- Con el modelo entrenado, predecir sobre el conjunto de prueba\n",
      "- Como el conjunto de prueba contiene datos conocidos y etiquetados, podr\u00e9 saber la precisi\u00f3n del modelo"
     ]
    },
    {
     "cell_type": "code",
     "collapsed": false,
     "input": [
      "from sklearn.cross_validation  import  train_test_split\n",
      "feature_train, feature_test, label_train, label_test = train_test_split(X, y, test_size=0.2)"
     ],
     "language": "python",
     "metadata": {},
     "outputs": [],
     "prompt_number": 19
    },
    {
     "cell_type": "code",
     "collapsed": false,
     "input": [
      "X.shape"
     ],
     "language": "python",
     "metadata": {},
     "outputs": [
      {
       "metadata": {},
       "output_type": "pyout",
       "prompt_number": 20,
       "text": [
        "(2832, 17)"
       ]
      }
     ],
     "prompt_number": 20
    },
    {
     "cell_type": "code",
     "collapsed": false,
     "input": [
      "feature_train.shape"
     ],
     "language": "python",
     "metadata": {},
     "outputs": [
      {
       "metadata": {},
       "output_type": "pyout",
       "prompt_number": 21,
       "text": [
        "(2265, 17)"
       ]
      }
     ],
     "prompt_number": 21
    },
    {
     "cell_type": "code",
     "collapsed": false,
     "input": [
      "feature_test.shape"
     ],
     "language": "python",
     "metadata": {},
     "outputs": [
      {
       "metadata": {},
       "output_type": "pyout",
       "prompt_number": 22,
       "text": [
        "(567, 17)"
       ]
      }
     ],
     "prompt_number": 22
    },
    {
     "cell_type": "markdown",
     "metadata": {},
     "source": [
      "Resumen: de los 2832 registros originales, se seleccionaron aleatoriamente 2265 para la fase de entrenamiento del modelo, quedando 567 para su fase de evaluaci\u00f3n. A su vez, del conjunto de dato original se desprende la columna objetivo como (Churn) para indicarle al algoritmo que esa es la etiqueta - label - que tiene que predecir"
     ]
    },
    {
     "cell_type": "heading",
     "level": 3,
     "metadata": {},
     "source": [
      "Tecnica: Validaci\u00f3n Cruzada - Cross Validation"
     ]
    },
    {
     "cell_type": "markdown",
     "metadata": {},
     "source": [
      "    1. Dividir el conjunto de datos en k conjuntos (k folds, ek: k=10)\n",
      "    2. Para i=1...k: entrenar con todos los conjuntos menos el i-\u00e9simo cojunto\n",
      "    3. Validar sobre el i-\u00e9simo conjunto\n",
      "    4. La precisi\u00f3n del modelo ser\u00e1 el promedio de la precisi\u00f3n a lo largo de las k iteraciones"
     ]
    },
    {
     "cell_type": "code",
     "collapsed": false,
     "input": [
      "cv_url = 'http://i.imgur.com/N9HZktu.png'\n",
      "Image(url=cv_url)"
     ],
     "language": "python",
     "metadata": {},
     "outputs": [
      {
       "html": [
        "<img src=\"http://i.imgur.com/N9HZktu.png\"/>"
       ],
       "metadata": {},
       "output_type": "pyout",
       "prompt_number": 23,
       "text": [
        "<IPython.core.display.Image at 0x9720cf8>"
       ]
      }
     ],
     "prompt_number": 23
    },
    {
     "cell_type": "heading",
     "level": 3,
     "metadata": {},
     "source": [
      "Scikits Learn"
     ]
    },
    {
     "cell_type": "code",
     "collapsed": false,
     "input": [
      "cv_url = 'https://kaggle2.blob.core.windows.net/competitions/kaggle/3428/media/scikit-learn-logo.png'\n",
      "Image(url=cv_url)"
     ],
     "language": "python",
     "metadata": {},
     "outputs": [
      {
       "html": [
        "<img src=\"https://kaggle2.blob.core.windows.net/competitions/kaggle/3428/media/scikit-learn-logo.png\"/>"
       ],
       "metadata": {},
       "output_type": "pyout",
       "prompt_number": 24,
       "text": [
        "<IPython.core.display.Image at 0x97209b0>"
       ]
      }
     ],
     "prompt_number": 24
    },
    {
     "cell_type": "markdown",
     "metadata": {},
     "source": [
      "Librer\u00eda Skikit Learn: Librer\u00eda Python para la construccion, entrenamiento y predicci\u00f3n de algoritmos de Machine Learning.\n",
      "\n",
      "- Clasificaci\u00f3n\n",
      "- Regresi\u00f3n\n",
      "- Clustering\n",
      "- Reducci\u00f3n de la Dimensionalidad\n",
      "- Evaluaci\u00f3n de Performance"
     ]
    },
    {
     "cell_type": "heading",
     "level": 6,
     "metadata": {},
     "source": [
      "Construccion"
     ]
    },
    {
     "cell_type": "code",
     "collapsed": false,
     "input": [
      "params = {'n_estimators': 200, 'max_depth':None, 'min_samples_split':2, 'min_samples_leaf':5, 'random_state':0,'max_features':'sqrt'}\n",
      "from sklearn.ensemble import RandomForestClassifier\n",
      "clf = RandomForestClassifier(**params)"
     ],
     "language": "python",
     "metadata": {},
     "outputs": [],
     "prompt_number": 25
    },
    {
     "cell_type": "heading",
     "level": 5,
     "metadata": {},
     "source": [
      "Entrenamiento"
     ]
    },
    {
     "cell_type": "code",
     "collapsed": false,
     "input": [
      "clf.fit(feature_train,label_train)"
     ],
     "language": "python",
     "metadata": {},
     "outputs": [
      {
       "metadata": {},
       "output_type": "pyout",
       "prompt_number": 26,
       "text": [
        "RandomForestClassifier(bootstrap=True, compute_importances=None,\n",
        "            criterion='gini', max_depth=None, max_features='sqrt',\n",
        "            max_leaf_nodes=None, min_density=None, min_samples_leaf=5,\n",
        "            min_samples_split=2, n_estimators=200, n_jobs=1,\n",
        "            oob_score=False, random_state=0, verbose=0)"
       ]
      }
     ],
     "prompt_number": 26
    },
    {
     "cell_type": "heading",
     "level": 6,
     "metadata": {},
     "source": [
      "Validaci\u00f3n"
     ]
    },
    {
     "cell_type": "code",
     "collapsed": false,
     "input": [
      "pred = clf.predict(feature_test)"
     ],
     "language": "python",
     "metadata": {},
     "outputs": [],
     "prompt_number": 27
    },
    {
     "cell_type": "heading",
     "level": 2,
     "metadata": {},
     "source": [
      "5. Evaluaci\u00f3n"
     ]
    },
    {
     "cell_type": "markdown",
     "metadata": {},
     "source": [
      "En modelos de clasificaci\u00f3n binaria como el presente, a la hora de evaluar la predicci\u00f3n realizada, y as\u00ed obtener una m\u00e9trica de la performance del modelo, hay que tener en cuenta los siguientes conceptos:\n",
      "\n",
      "    - Accuracy: m\u00e9trica general de la eficiencia del modelo.\n",
      "    - Precisi\u00f3n: M\u00e9trica que habla sobre la cantidad de aciertos de la predicci\u00f3n\n",
      "    - Recall: Metrica que habla de la sensibilidad de la prediccion realizada. Porcentaje de casos identificados"
     ]
    },
    {
     "cell_type": "markdown",
     "metadata": {},
     "source": [
      "Tienen que ver con los conceptos de:\n",
      "    - Verdaderos Positivos: aquellos que pertenecen a la clase X y el modelo dijo que pertenecen a la clase X\n",
      "    - Falsos Positivos: aquellos que pertenecen a la clase Y, y el modelo dijo que pertenecen a la clase X\n",
      "    - Verdaderos Negativos: aquellos que pertenecen a la clase Y, y el modelo dijo que pertenecen a la clase Y\n",
      "    - Falsos Negativos: aquellos que pertenecen a la clase X, y el modelo dijo que pertenecen a la clase Y."
     ]
    },
    {
     "cell_type": "code",
     "collapsed": false,
     "input": [
      "cv_url = 'https://upload.wikimedia.org/wikipedia/commons/thumb/2/26/Precisionrecall.svg/350px-Precisionrecall.svg.png'\n",
      "Image(url=cv_url)"
     ],
     "language": "python",
     "metadata": {},
     "outputs": [
      {
       "html": [
        "<img src=\"https://upload.wikimedia.org/wikipedia/commons/thumb/2/26/Precisionrecall.svg/350px-Precisionrecall.svg.png\"/>"
       ],
       "metadata": {},
       "output_type": "pyout",
       "prompt_number": 28,
       "text": [
        "<IPython.core.display.Image at 0x2fc7748>"
       ]
      }
     ],
     "prompt_number": 28
    },
    {
     "cell_type": "markdown",
     "metadata": {},
     "source": [
      "- Precision: \u00bfCuantos casos predecidos como Churn, son realmente churn?\n",
      "- Recall: Del total de casos de Churn, \u00bfcu\u00e1ntos fueron predecidos como Churn?"
     ]
    },
    {
     "cell_type": "code",
     "collapsed": false,
     "input": [
      "cv_url = 'http://bit.ly/1jvZmIn'\n",
      "Image(url=cv_url)"
     ],
     "language": "python",
     "metadata": {},
     "outputs": [
      {
       "html": [
        "<img src=\"http://bit.ly/1jvZmIn\"/>"
       ],
       "metadata": {},
       "output_type": "pyout",
       "prompt_number": 29,
       "text": [
        "<IPython.core.display.Image at 0xb63b8d0>"
       ]
      }
     ],
     "prompt_number": 29
    },
    {
     "cell_type": "heading",
     "level": 3,
     "metadata": {},
     "source": [
      "Feature Importance"
     ]
    },
    {
     "cell_type": "markdown",
     "metadata": {},
     "source": [
      "A la hora de poner en producci\u00f3n el modelo construido, surgen algunas preguntas\n",
      "- \u00bfTodas las caracter\u00edsticas son igualmente importantes?\n",
      "- \u00bfHay alguna variable que tenga m\u00e1s peso que otra a la hora de decidir por Churn o No Churn?\n",
      "- \u00bfEs importante saberlo? --> Tomar decisiones estrat\u00e9gicas\n",
      "\n",
      "Si el negocio pudiera conocer esta correlacion entre los valores de la variable Churn y los valores del resto de las columnas, podr\u00eda centrarse unicamente en estas variables, y as\u00ed simplificar la implementaci\u00f3n a la hora de consumir la informaci\u00f3n "
     ]
    },
    {
     "cell_type": "heading",
     "level": 6,
     "metadata": {},
     "source": [
      "Los modelos dejan de ser una caja negra"
     ]
    },
    {
     "cell_type": "code",
     "collapsed": false,
     "input": [
      "ft_columns = ['AccountLength', 'IntlPlan', 'VMailPlan',\n",
      "       'VMailMessage', 'DayMins', 'DayCalls', 'DayCharge', 'EveMins',\n",
      "       'EveCalls', 'EveCharge', 'NightMins', 'NightCalls', 'NightCharge',\n",
      "       'IntlMins', 'IntlCalls', 'IntlCharge', 'CustServCalls']\n",
      "\n",
      "ft_values = clf.feature_importances_"
     ],
     "language": "python",
     "metadata": {},
     "outputs": [],
     "prompt_number": 30
    },
    {
     "cell_type": "code",
     "collapsed": false,
     "input": [
      "df_feature = pd.DataFrame(data = {'value':ft_values.tolist()}, index=ft_columns)"
     ],
     "language": "python",
     "metadata": {},
     "outputs": [],
     "prompt_number": 31
    },
    {
     "cell_type": "code",
     "collapsed": false,
     "input": [
      "fig = df_feature.sort(columns='value').plot(kind='barh')\n",
      "plt.show()\n",
      "\n"
     ],
     "language": "python",
     "metadata": {},
     "outputs": [
      {
       "metadata": {},
       "output_type": "display_data",
       "png": "[encoded data removed]",
       "text": [
        "<matplotlib.figure.Figure at 0xb63be10>"
       ]
      }
     ],
     "prompt_number": 32
    },
    {
     "cell_type": "heading",
     "level": 1,
     "metadata": {},
     "source": [
      "Implementacion"
     ]
    },
    {
     "cell_type": "markdown",
     "metadata": {},
     "source": [
      "Una vez que se tiene el modelo entrenado, evaluado, y que cumple con los requisitos de calidad fijados por el negocio, se est\u00e1 listo para la ultima etapa de IMPLEMENTACION\n",
      "\n",
      "En esta etapa el objetivo es pasar a producci\u00f3n el modelo entrenado, para que ya no sirva s\u00f3lo para probar valores pasados y etiquetados, sino que nos sirva como un medio para, en base a nuevos valores de entrada que el negocio ingrese, arrojar predicciones futuras.\n",
      "\n",
      "Existen principalmente dos formas en la que la implementaci\u00f3n puede llevarse a cabo"
     ]
    },
    {
     "cell_type": "heading",
     "level": 4,
     "metadata": {},
     "source": [
      "> Servicio en Tiempo Real"
     ]
    },
    {
     "cell_type": "markdown",
     "metadata": {},
     "source": [
      "Implementaci\u00f3n de una aplicacion predictiva, API, o Web Service para el consumo de informaci\u00f3n. A una fila de par\u00e1metros, devuelve una fila de prediccion."
     ]
    },
    {
     "cell_type": "code",
     "collapsed": false,
     "input": [
      "cv_url = 'http://bit.ly/1Pl4Oud'\n",
      "Image(url=cv_url)"
     ],
     "language": "python",
     "metadata": {},
     "outputs": [
      {
       "html": [
        "<img src=\"http://bit.ly/1Pl4Oud\"/>"
       ],
       "metadata": {},
       "output_type": "pyout",
       "prompt_number": 33,
       "text": [
        "<IPython.core.display.Image at 0x9278160>"
       ]
      }
     ],
     "prompt_number": 33
    },
    {
     "cell_type": "heading",
     "level": 4,
     "metadata": {},
     "source": [
      "> Implementaci\u00f3n en Lote"
     ]
    },
    {
     "cell_type": "markdown",
     "metadata": {},
     "source": [
      "para la predicci\u00f3n de gran cantidad de registros."
     ]
    },
    {
     "cell_type": "code",
     "collapsed": false,
     "input": [
      "cv_url = 'http://bit.ly/1L4dL8a'\n",
      "Image(url=cv_url)"
     ],
     "language": "python",
     "metadata": {},
     "outputs": [
      {
       "html": [
        "<img src=\"http://bit.ly/1L4dL8a\"/>"
       ],
       "metadata": {},
       "output_type": "pyout",
       "prompt_number": 34,
       "text": [
        "<IPython.core.display.Image at 0x96a77b8>"
       ]
      }
     ],
     "prompt_number": 34
    }
   ],
   "metadata": {}
  }
 ]
}