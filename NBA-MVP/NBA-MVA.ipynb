{
 "metadata": {
  "name": "",
  "signature": "sha256:e39e2589cbb7eec6b32443ab77d57a4a8044a765f0fd35ba67ce6171e5dcc34c"
 },
 "nbformat": 3,
 "nbformat_minor": 0,
 "worksheets": [
  {
   "cells": [
    {
     "cell_type": "heading",
     "level": 1,
     "metadata": {},
     "source": [
      "Prediciendo datos abiertos deportivos de la Nube"
     ]
    },
    {
     "cell_type": "markdown",
     "metadata": {},
     "source": [
      "Cierto d\u00eda charlando con mis compa\u00f1eros de trabajo de la final pasada de los playoffs de la NBA. Abrimos nuestra mente llevando las herramientas y conocimientos que conocemos para desarrollar un proyecto. Gracias a http://www.basketball-reference.com/, nos fue posible nutrirnos de muchos datos abiertos para realizar un corto y peque\u00f1o proyecto a modo de diversi\u00f3n con las posibilidades.\n",
      "\n",
      "En Pi - Data Strategy & Consulting, lugar donde trabajo, potenciamos empresas con desarrollos de Data Science y Big Data, adem\u00e1s de los servicios de Self-Service BI y estrategia de datos. Esta empresa nos REGALA de manera ultra especial el 20% del tiempo laboral para proyectos personal. Que mejor momento que esa hora del d\u00eda para continuar con alguna predicci\u00f3n sobre la NBA.\n",
      "\n",
      "Revisando los datos, fue de facilidad identificar algo r\u00e1pido e interesante para realizar. Predecir el MVP del 2015 ser\u00eda la meta. En este art\u00edculo voy a describir un desarrollo para realizar una simple e interesante predicci\u00f3n, para que comprendamos que hay valor en peque\u00f1as soluciones.\n"
     ]
    },
    {
     "cell_type": "heading",
     "level": 3,
     "metadata": {},
     "source": [
      "Desarrollando"
     ]
    },
    {
     "cell_type": "markdown",
     "metadata": {},
     "source": [
      "Analizando los datos del sitio, se me ocurri\u00f3 utilizar el promedio de estad\u00edsticas de los jugadores participantes en las nominaciones a los MVP desde el a\u00f1o 2000. Con eso congregar\u00eda un data set de entrenamiento de 230 filas de estad\u00edsticas de jugadores participantes del MVP por a\u00f1o de los cuales hab\u00eda 14 estad\u00edsticas de ganadores y 216 de no ganadores (no me gusta la palabra perdedor). Luego de analizar los datos provenientes del sitio, determine las siguientes columnas:\n",
      "\n",
      "\"Player, Year, Age, Team, Winner Team, Second Place Team, Games, Minutes Played Per Game, Points Per Game, Total Rebounds Per Game, Assists Per Game, Steals Per Game, Blocks Per Game, Field Goals Percentage, 3-Points Field Goals Per Game, Free Throws, Win Shared Per Game, Win Shared Per 48 minutes, MVP Winner\"\n",
      "\n",
      "A partir de ellas tome un ipython notebook y comenc\u00e9 a probar."
     ]
    },
    {
     "cell_type": "code",
     "collapsed": false,
     "input": [
      "import pandas as pd\n",
      "import numpy as np\n",
      "from sklearn.ensemble import RandomForestClassifier\n",
      "from sklearn import preprocessing\n",
      "from sklearn.grid_search import RandomizedSearchCV\n",
      "from scipy.stats import randint as sp_randint\n",
      "from time import time\n",
      "from operator import itemgetter"
     ],
     "language": "python",
     "metadata": {},
     "outputs": [],
     "prompt_number": 1
    },
    {
     "cell_type": "heading",
     "level": 3,
     "metadata": {},
     "source": [
      "Cargado de datasets"
     ]
    },
    {
     "cell_type": "code",
     "collapsed": false,
     "input": [
      "df = pd.read_csv('MVP_train.csv', sep=\",\")\n",
      "df_test = pd.read_csv('MVP_test.csv', sep=\",\")"
     ],
     "language": "python",
     "metadata": {},
     "outputs": [],
     "prompt_number": 2
    },
    {
     "cell_type": "heading",
     "level": 3,
     "metadata": {},
     "source": [
      "Pre-Proccess"
     ]
    },
    {
     "cell_type": "markdown",
     "metadata": {},
     "source": [
      "Gracias al sitio basketball-reference, el pre procesamiento de datos fue m\u00ednimo. Realizar un label enconder para el equipo proveniente, ganador y segundo lugar fue lo \u00fanico que llev\u00f3 importar una funci\u00f3n."
     ]
    },
    {
     "cell_type": "code",
     "collapsed": false,
     "input": [
      "# Crear un label encoder de Equipos con ambos datasets\n",
      "tm = preprocessing.LabelEncoder()\n",
      "tm.fit(np.array(pd.concat([df[\"Tm\"].astype(str), df_test[\"Tm\"].astype(str)])))"
     ],
     "language": "python",
     "metadata": {},
     "outputs": [
      {
       "metadata": {},
       "output_type": "pyout",
       "prompt_number": 3,
       "text": [
        "LabelEncoder()"
       ]
      }
     ],
     "prompt_number": 3
    },
    {
     "cell_type": "code",
     "collapsed": false,
     "input": [
      "# Reemplazar label encoder con datos de entrenamiento\n",
      "df[\"Tm\"] = tm.transform(df[\"Tm\"].astype(str))\n",
      "df[\"Winner Tm\"] = tm.transform(df[\"Winner Tm\"].astype(str))\n",
      "df[\"SecondPlace\"] = tm.transform(df[\"SecondPlace\"].astype(str))"
     ],
     "language": "python",
     "metadata": {},
     "outputs": [],
     "prompt_number": 4
    },
    {
     "cell_type": "code",
     "collapsed": false,
     "input": [
      "# Reemplazar label encoder con datos de prueba\n",
      "df_test[\"Tm\"] = tm.transform(df_test[\"Tm\"].astype(str))\n",
      "df_test[\"Winner Tm\"] = tm.transform(df_test[\"Winner Tm\"].astype(str))\n",
      "df_test[\"SecondPlace\"] = tm.transform(df_test[\"SecondPlace\"].astype(str))"
     ],
     "language": "python",
     "metadata": {},
     "outputs": [],
     "prompt_number": 5
    },
    {
     "cell_type": "markdown",
     "metadata": {},
     "source": [
      "Luego de unas corridas descubr\u00ed dos cosas. La primera que la edad no aportaba tanto como pens\u00e9 y la segunda que era mejor tener una simple feature que determinase si era o no finalista el jugador en lugar de tener tres columnas sobre el equipo. El resto de los datos del data set los hab\u00eda preparado muy bien previamente. "
     ]
    },
    {
     "cell_type": "code",
     "collapsed": false,
     "input": [
      "# Crear Columna Finalista\n",
      "df[\"Finalist\"] = pd.DataFrame([(df[\"Tm\"]==df[\"Winner Tm\"]) | (df[\"Tm\"]==df[\"SecondPlace\"])]).T\n",
      "df_test[\"Finalist\"] = pd.DataFrame([(df_test[\"Tm\"]==df_test[\"Winner Tm\"]) | (df_test[\"Tm\"]==df_test[\"SecondPlace\"])]).T"
     ],
     "language": "python",
     "metadata": {},
     "outputs": [],
     "prompt_number": 6
    },
    {
     "cell_type": "heading",
     "level": 3,
     "metadata": {},
     "source": [
      "Machine Learning"
     ]
    },
    {
     "cell_type": "code",
     "collapsed": false,
     "input": [
      "X = np.array(df.drop(['Player', 'Year', 'Tm', 'Winner Tm', 'SecondPlace', 'Winner'], 1))\n",
      "y = np.array(df[\"Winner\"])\n",
      "X_test = df_test.drop(['Player', 'Year', 'Tm', 'Winner Tm', 'SecondPlace', 'Winner'], 1)"
     ],
     "language": "python",
     "metadata": {},
     "outputs": [],
     "prompt_number": 7
    },
    {
     "cell_type": "code",
     "collapsed": false,
     "input": [
      "# Clasificador\n",
      "clf_default = RandomForestClassifier()\n",
      "clf_default.fit(X, y)"
     ],
     "language": "python",
     "metadata": {},
     "outputs": [
      {
       "metadata": {},
       "output_type": "pyout",
       "prompt_number": 8,
       "text": [
        "RandomForestClassifier(bootstrap=True, class_weight=None, criterion='gini',\n",
        "            max_depth=None, max_features='auto', max_leaf_nodes=None,\n",
        "            min_samples_leaf=1, min_samples_split=2,\n",
        "            min_weight_fraction_leaf=0.0, n_estimators=10, n_jobs=1,\n",
        "            oob_score=False, random_state=None, verbose=0,\n",
        "            warm_start=False)"
       ]
      }
     ],
     "prompt_number": 8
    },
    {
     "cell_type": "code",
     "collapsed": false,
     "input": [
      "#A\u00f1o 2015 (test)\n",
      "pred_default = clf_default.predict_proba(X_test)"
     ],
     "language": "python",
     "metadata": {},
     "outputs": [],
     "prompt_number": 9
    },
    {
     "cell_type": "code",
     "collapsed": false,
     "input": [
      "# DataFrame de probabilidades de cada jugador\n",
      "res_default = pd.DataFrame(columns=[\"Player\",\"Probability\"])\n",
      "res_default[\"Player\"] = df_test[\"Player\"]\n",
      "res_default[\"Probability\"] = pred_default[:,1]\n",
      "res_default.sort(['Probability'], ascending=False)"
     ],
     "language": "python",
     "metadata": {},
     "outputs": [
      {
       "html": [
        "<div style=\"max-width:1500px;overflow:auto;\">\n",
        "<table border=\"1\" class=\"dataframe\">\n",
        "  <thead>\n",
        "    <tr style=\"text-align: right;\">\n",
        "      <th></th>\n",
        "      <th>Player</th>\n",
        "      <th>Probability</th>\n",
        "    </tr>\n",
        "  </thead>\n",
        "  <tbody>\n",
        "    <tr>\n",
        "      <th>1</th>\n",
        "      <td>James Harden</td>\n",
        "      <td>0.3</td>\n",
        "    </tr>\n",
        "    <tr>\n",
        "      <th>5</th>\n",
        "      <td>Chris Paul</td>\n",
        "      <td>0.3</td>\n",
        "    </tr>\n",
        "    <tr>\n",
        "      <th>0</th>\n",
        "      <td>Stephen Curry</td>\n",
        "      <td>0.2</td>\n",
        "    </tr>\n",
        "    <tr>\n",
        "      <th>4</th>\n",
        "      <td>Anthony Davis</td>\n",
        "      <td>0.1</td>\n",
        "    </tr>\n",
        "    <tr>\n",
        "      <th>2</th>\n",
        "      <td>LeBron James</td>\n",
        "      <td>0.0</td>\n",
        "    </tr>\n",
        "    <tr>\n",
        "      <th>3</th>\n",
        "      <td>Russell Westbrook</td>\n",
        "      <td>0.0</td>\n",
        "    </tr>\n",
        "    <tr>\n",
        "      <th>6</th>\n",
        "      <td>LaMarcus Aldridge</td>\n",
        "      <td>0.0</td>\n",
        "    </tr>\n",
        "    <tr>\n",
        "      <th>7</th>\n",
        "      <td>Marc Gasol</td>\n",
        "      <td>0.0</td>\n",
        "    </tr>\n",
        "    <tr>\n",
        "      <th>8</th>\n",
        "      <td>Blake Griffin</td>\n",
        "      <td>0.0</td>\n",
        "    </tr>\n",
        "    <tr>\n",
        "      <th>9</th>\n",
        "      <td>Tim Duncan</td>\n",
        "      <td>0.0</td>\n",
        "    </tr>\n",
        "    <tr>\n",
        "      <th>10</th>\n",
        "      <td>Kawhi Leonard</td>\n",
        "      <td>0.0</td>\n",
        "    </tr>\n",
        "    <tr>\n",
        "      <th>11</th>\n",
        "      <td>Klay Thompson</td>\n",
        "      <td>0.0</td>\n",
        "    </tr>\n",
        "  </tbody>\n",
        "</table>\n",
        "</div>"
       ],
       "metadata": {},
       "output_type": "pyout",
       "prompt_number": 10,
       "text": [
        "               Player  Probability\n",
        "1        James Harden          0.3\n",
        "5          Chris Paul          0.3\n",
        "0       Stephen Curry          0.2\n",
        "4       Anthony Davis          0.1\n",
        "2        LeBron James          0.0\n",
        "3   Russell Westbrook          0.0\n",
        "6   LaMarcus Aldridge          0.0\n",
        "7          Marc Gasol          0.0\n",
        "8       Blake Griffin          0.0\n",
        "9          Tim Duncan          0.0\n",
        "10      Kawhi Leonard          0.0\n",
        "11      Klay Thompson          0.0"
       ]
      }
     ],
     "prompt_number": 10
    },
    {
     "cell_type": "markdown",
     "metadata": {},
     "source": [
      "Corriendo un simple RandomForestClassifier mi caso no ten\u00eda \u00e9xito. Me detuve a mirar con mayor profundidad. Al algoritmo le costaba la identificaci\u00f3n del ganador real y las probabilidades sol\u00edan estar m\u00e1s altas o empatadas en algunos casos para varios de los m\u00e1s votados. "
     ]
    },
    {
     "cell_type": "markdown",
     "metadata": {},
     "source": [
      "Analizando un poco las proporciones decid\u00ed agregar ganadores de a\u00f1os pasados conteniendo un data set de. A\u00f1ad\u00ed solo ganadores, de a\u00f1os anteriores para que hubiese m\u00e1s casos de \u00e9xito para que el algoritmo entrenase, quedando un total de 245 filas con cerca de 30 casos ganadores. Para que no fuese menos, aproveche en mejorar el clasificador corriendo la funci\u00f3n randomseachCV. As\u00ed logr\u00e9 encontrar mejores par\u00e1metros del bosque de decisiones. Dej\u00e1ndolo de la siguiente manera:"
     ]
    },
    {
     "cell_type": "code",
     "collapsed": false,
     "input": [
      "# Buscar mejores parametros para un Random Forest Classifier\n",
      "\n",
      "# Funci\u00f3n utilitaria para reportar los mejores scores\n",
      "def report(grid_scores, n_top=3):\n",
      "    top_scores = sorted(grid_scores, key=itemgetter(1), reverse=True)[:n_top]\n",
      "    for i, score in enumerate(top_scores):\n",
      "        print(\"Model with rank: {0}\".format(i + 1))\n",
      "        print(\"Mean validation score: {0:.3f} (std: {1:.3f})\".format(\n",
      "              score.mean_validation_score,\n",
      "              np.std(score.cv_validation_scores)))\n",
      "        print(\"Parameters: {0}\".format(score.parameters))\n",
      "        print(\"\")\n",
      "\n",
      "\n",
      "# Especificaci\u00f3n de parametros y distribuciones a probar\n",
      "param_dist = { \"max_depth\": [1,2,3,4,5,6,7,8,9,10, None],\n",
      "              \"max_features\": [\"auto\", \"sqrt\", \"log2\"],\n",
      "              \"min_samples_split\": sp_randint(1, 20),\n",
      "              \"min_samples_leaf\": sp_randint(1, 20),\n",
      "              \"bootstrap\": [True, False],\n",
      "              \"criterion\": [\"gini\", \"entropy\"],\n",
      "              \"random_state\": sp_randint(1,20) }\n",
      "\n",
      "# Conversi\u00f3n a tipo espec\u00edfico para evitar errores en comparaci\u00f3n\n",
      "df[\"Player\"]=df.iloc[:245,0].astype(str)\n",
      "df[\"Winner\"]=df.iloc[:245,18].astype(bool)\n",
      "\n",
      "# Correr randomized search\n",
      "n_iter_search = 20\n",
      "random_search = RandomizedSearchCV(clf_default, param_distributions=param_dist,\n",
      "                                   n_iter=n_iter_search, scoring=\"accuracy\")\n",
      "\n",
      "start = time()\n",
      "random_search.fit(X, y)\n",
      "print(\"RandomizedSearchCV took %.2f seconds for %d candidates\"\n",
      "      \" parameter settings.\" % ((time() - start), n_iter_search))\n",
      "report(random_search.grid_scores_)"
     ],
     "language": "python",
     "metadata": {},
     "outputs": [
      {
       "output_type": "stream",
       "stream": "stdout",
       "text": [
        "RandomizedSearchCV took 2.57 seconds for 20 candidates parameter settings.\n",
        "Model with rank: 1\n",
        "Mean validation score: 0.898 (std: 0.022)\n",
        "Parameters: {'random_state': 18, 'min_samples_split': 8, 'max_depth': 5, 'criterion': 'gini', 'bootstrap': False, 'max_features': 'log2', 'min_samples_leaf': 4}\n",
        "\n",
        "Model with rank: 2\n",
        "Mean validation score: 0.898 (std: 0.011)\n",
        "Parameters: {'random_state': 5, 'min_samples_split': 4, 'max_depth': 4, 'criterion': 'gini', 'bootstrap': False, 'max_features': 'auto', 'min_samples_leaf': 3}\n",
        "\n",
        "Model with rank: 3\n",
        "Mean validation score: 0.890 (std: 0.010)\n",
        "Parameters: {'random_state': 16, 'min_samples_split': 12, 'max_depth': 8, 'criterion': 'gini', 'bootstrap': False, 'max_features': 'auto', 'min_samples_leaf': 2}\n",
        "\n"
       ]
      }
     ],
     "prompt_number": 11
    },
    {
     "cell_type": "markdown",
     "metadata": {},
     "source": [
      "Los valores del primer resultado actual no son exactamente los mismos del algoritmo. Esto se debe a que lo corr\u00ed nuevamente y el resultado va cambiando adem\u00e1s de ciertos criteorios de experiencia personal llegu\u00e9 a determinar los parametros que est\u00e1n a continuaci\u00f3n."
     ]
    },
    {
     "cell_type": "code",
     "collapsed": false,
     "input": [
      "# Clasificador\n",
      "\n",
      "clf = RandomForestClassifier(n_estimators=100, bootstrap=False, min_samples_leaf=6, min_samples_split=19, random_state=2, criterion=\"gini\", max_features=\"sqrt\", max_depth=10)\n",
      "clf.fit(X, y)\n"
     ],
     "language": "python",
     "metadata": {},
     "outputs": [
      {
       "metadata": {},
       "output_type": "pyout",
       "prompt_number": 12,
       "text": [
        "RandomForestClassifier(bootstrap=False, class_weight=None, criterion='gini',\n",
        "            max_depth=10, max_features='sqrt', max_leaf_nodes=None,\n",
        "            min_samples_leaf=6, min_samples_split=19,\n",
        "            min_weight_fraction_leaf=0.0, n_estimators=100, n_jobs=1,\n",
        "            oob_score=False, random_state=2, verbose=0, warm_start=False)"
       ]
      }
     ],
     "prompt_number": 12
    },
    {
     "cell_type": "code",
     "collapsed": false,
     "input": [
      "#A\u00f1o 2015 (test)\n",
      "pred = clf.predict_proba(X_test)"
     ],
     "language": "python",
     "metadata": {},
     "outputs": [],
     "prompt_number": 13
    },
    {
     "cell_type": "markdown",
     "metadata": {},
     "source": [
      "Formulando el RadomForest de esa manera y probando con datos del a\u00f1o 2015 logr\u00e9 buenos resultados:"
     ]
    },
    {
     "cell_type": "code",
     "collapsed": false,
     "input": [
      "# DataFrame de probabilidades de cada jugador\n",
      "res = pd.DataFrame(columns=[\"Player\",\"Probability\"])\n",
      "res[\"Player\"] = df_test[\"Player\"]\n",
      "res[\"Probability\"] = pred[:,1]\n",
      "res.sort(['Probability'], ascending=False)"
     ],
     "language": "python",
     "metadata": {},
     "outputs": [
      {
       "html": [
        "<div style=\"max-width:1500px;overflow:auto;\">\n",
        "<table border=\"1\" class=\"dataframe\">\n",
        "  <thead>\n",
        "    <tr style=\"text-align: right;\">\n",
        "      <th></th>\n",
        "      <th>Player</th>\n",
        "      <th>Probability</th>\n",
        "    </tr>\n",
        "  </thead>\n",
        "  <tbody>\n",
        "    <tr>\n",
        "      <th>0</th>\n",
        "      <td>Stephen Curry</td>\n",
        "      <td>0.496528</td>\n",
        "    </tr>\n",
        "    <tr>\n",
        "      <th>1</th>\n",
        "      <td>James Harden</td>\n",
        "      <td>0.390695</td>\n",
        "    </tr>\n",
        "    <tr>\n",
        "      <th>4</th>\n",
        "      <td>Anthony Davis</td>\n",
        "      <td>0.342744</td>\n",
        "    </tr>\n",
        "    <tr>\n",
        "      <th>5</th>\n",
        "      <td>Chris Paul</td>\n",
        "      <td>0.321863</td>\n",
        "    </tr>\n",
        "    <tr>\n",
        "      <th>2</th>\n",
        "      <td>LeBron James</td>\n",
        "      <td>0.080833</td>\n",
        "    </tr>\n",
        "    <tr>\n",
        "      <th>11</th>\n",
        "      <td>Klay Thompson</td>\n",
        "      <td>0.062918</td>\n",
        "    </tr>\n",
        "    <tr>\n",
        "      <th>3</th>\n",
        "      <td>Russell Westbrook</td>\n",
        "      <td>0.031523</td>\n",
        "    </tr>\n",
        "    <tr>\n",
        "      <th>10</th>\n",
        "      <td>Kawhi Leonard</td>\n",
        "      <td>0.014841</td>\n",
        "    </tr>\n",
        "    <tr>\n",
        "      <th>9</th>\n",
        "      <td>Tim Duncan</td>\n",
        "      <td>0.013179</td>\n",
        "    </tr>\n",
        "    <tr>\n",
        "      <th>6</th>\n",
        "      <td>LaMarcus Aldridge</td>\n",
        "      <td>0.007153</td>\n",
        "    </tr>\n",
        "    <tr>\n",
        "      <th>7</th>\n",
        "      <td>Marc Gasol</td>\n",
        "      <td>0.004012</td>\n",
        "    </tr>\n",
        "    <tr>\n",
        "      <th>8</th>\n",
        "      <td>Blake Griffin</td>\n",
        "      <td>0.000000</td>\n",
        "    </tr>\n",
        "  </tbody>\n",
        "</table>\n",
        "</div>"
       ],
       "metadata": {},
       "output_type": "pyout",
       "prompt_number": 14,
       "text": [
        "               Player  Probability\n",
        "0       Stephen Curry     0.496528\n",
        "1        James Harden     0.390695\n",
        "4       Anthony Davis     0.342744\n",
        "5          Chris Paul     0.321863\n",
        "2        LeBron James     0.080833\n",
        "11      Klay Thompson     0.062918\n",
        "3   Russell Westbrook     0.031523\n",
        "10      Kawhi Leonard     0.014841\n",
        "9          Tim Duncan     0.013179\n",
        "6   LaMarcus Aldridge     0.007153\n",
        "7          Marc Gasol     0.004012\n",
        "8       Blake Griffin     0.000000"
       ]
      }
     ],
     "prompt_number": 14
    },
    {
     "cell_type": "markdown",
     "metadata": {},
     "source": [
      "Como podemos apreciar el jugador con mayores probabilidades es el actual ganador del MVP 2015 de la NBA. Los valores reales correspondieron en parte con los votados en el a\u00f1o."
     ]
    },
    {
     "cell_type": "code",
     "collapsed": false,
     "input": [
      "df_test[\"Player\"]"
     ],
     "language": "python",
     "metadata": {},
     "outputs": [
      {
       "metadata": {},
       "output_type": "pyout",
       "prompt_number": 15,
       "text": [
        "0         Stephen Curry\n",
        "1          James Harden\n",
        "2          LeBron James\n",
        "3     Russell Westbrook\n",
        "4         Anthony Davis\n",
        "5            Chris Paul\n",
        "6     LaMarcus Aldridge\n",
        "7            Marc Gasol\n",
        "8         Blake Griffin\n",
        "9            Tim Duncan\n",
        "10        Kawhi Leonard\n",
        "11        Klay Thompson\n",
        "Name: Player, dtype: object"
       ]
      }
     ],
     "prompt_number": 15
    },
    {
     "cell_type": "heading",
     "level": 3,
     "metadata": {},
     "source": [
      "Conclusi\u00f3n"
     ]
    },
    {
     "cell_type": "markdown",
     "metadata": {},
     "source": [
      "Realic\u00e9 este art\u00edculo para animar a nuevos cient\u00edficos de datos a conocer que con curiosidad e ideales de mente abierta es suficiente para realizar buenos experimentos e incluso \u00fatiles si fuese luego a jugar en sitios de apuestas, por ejemplo, y mi resultado fue satisfactorio.\n",
      "No hacen falta grandes conocimientos para realizar proyectos de gran utilidad. Vayamos por una mentalidad abierta y una cultura Open Data para demostrar y compartir grandes estad\u00edsticas predictivas.\n"
     ]
    }
   ],
   "metadata": {}
  }
 ]
}